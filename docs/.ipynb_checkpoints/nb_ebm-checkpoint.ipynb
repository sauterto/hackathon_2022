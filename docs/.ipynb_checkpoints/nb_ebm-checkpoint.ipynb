{
 "cells": [
  {
   "cell_type": "markdown",
   "id": "70f8800e",
   "metadata": {
    "slideshow": {
     "slide_type": "slide"
    }
   },
   "source": [
    "(ebm:exercise)=\n",
    "# Simplified Energy Balance Model"
   ]
  },
  {
   "cell_type": "markdown",
   "id": "99021484",
   "metadata": {
    "slideshow": {
     "slide_type": "slide"
    }
   },
   "source": [
    "**Task 1:** Write a Python function for the OLR and effective temperature for later use."
   ]
  },
  {
   "cell_type": "code",
   "execution_count": 1,
   "id": "65dbc0d3",
   "metadata": {
    "slideshow": {
     "slide_type": "fragment"
    }
   },
   "outputs": [],
   "source": [
    "# Stefan-Boltzmann constant\n",
    "sigma = 5.67e-8\n",
    "\n",
    "def T_eff(OLR):\n",
    "    \"\"\" Effective global mean emission temperature \"\"\"\n",
    "    # Write your code here\n",
    "    pass\n",
    "     \n",
    "def OLR(T):\n",
    "    \"\"\" Stefan-Boltzmann law \"\"\"\n",
    "    # Write your code here\n",
    "    pass"
   ]
  },
  {
   "cell_type": "markdown",
   "id": "ef603b4f",
   "metadata": {
    "slideshow": {
     "slide_type": "slide"
    }
   },
   "source": [
    "**Task 2:** Extend the OLR function by another **transmissivity** constant $\\tau$ which takes this effect into account. Determine the transmissivity for a global mean temperature of 288 K."
   ]
  },
  {
   "cell_type": "code",
   "execution_count": 2,
   "id": "a0b19637",
   "metadata": {
    "slideshow": {
     "slide_type": "fragment"
    }
   },
   "outputs": [],
   "source": [
    "def OLR(T, tau):\n",
    "    \"\"\" Stefan-Boltzmann law \"\"\"\n",
    "    # Write your code here\n",
    "    pass\n",
    "\n",
    "def tau(OLR, T):\n",
    "    \"\"\" Calculate transmissivity \"\"\"\n",
    "    # Write your code here\n",
    "    pass"
   ]
  },
  {
   "cell_type": "code",
   "execution_count": 3,
   "id": "7548d3f0",
   "metadata": {
    "slideshow": {
     "slide_type": "fragment"
    }
   },
   "outputs": [],
   "source": [
    "# Print the results\n"
   ]
  },
  {
   "cell_type": "markdown",
   "id": "fc887056",
   "metadata": {
    "slideshow": {
     "slide_type": "slide"
    }
   },
   "source": [
    "**Task 3:** Determine the planetary albedo from the observations and write a function for the absorbed shortwave radiation, the part of the incoming sunlight that is not reflected back to space"
   ]
  },
  {
   "cell_type": "code",
   "execution_count": 4,
   "id": "7db98a13",
   "metadata": {
    "slideshow": {
     "slide_type": "fragment"
    }
   },
   "outputs": [],
   "source": [
    "# Calculate the planetary albedo\n",
    "\n"
   ]
  },
  {
   "cell_type": "markdown",
   "id": "d67af54e",
   "metadata": {
    "slideshow": {
     "slide_type": "slide"
    }
   },
   "source": [
    "**Task 4:** What additional amount of energy would have to remain in the system for the global temperature to rise by 4 K?"
   ]
  },
  {
   "cell_type": "code",
   "execution_count": 5,
   "id": "8403a427",
   "metadata": {
    "slideshow": {
     "slide_type": "fragment"
    }
   },
   "outputs": [],
   "source": [
    "def ASR(Q, albedo):\n",
    "    \"\"\" Absorbed shortwave radiation \"\"\"\n",
    "    # Write your code here\n",
    "    pass    # Write your code here\n",
    "    pass"
   ]
  },
  {
   "cell_type": "code",
   "execution_count": 6,
   "id": "2f32ad2a",
   "metadata": {
    "slideshow": {
     "slide_type": "fragment"
    }
   },
   "outputs": [],
   "source": [
    "# Print the results"
   ]
  },
  {
   "cell_type": "markdown",
   "id": "afe62ba2",
   "metadata": {
    "slideshow": {
     "slide_type": "slide"
    }
   },
   "source": [
    "**Task 5:** Rearrange the equation according to the temperature denoting our equilibrium temperature. Substitute the observed values for insolation, transmissivity and planetary albedo and calculate the equlibrium temperature."
   ]
  },
  {
   "cell_type": "code",
   "execution_count": 7,
   "id": "52939c8c",
   "metadata": {
    "slideshow": {
     "slide_type": "fragment"
    }
   },
   "outputs": [],
   "source": [
    "def equilibrium_temperature(alpha,Q,tau):\n",
    "    \"\"\" Equilibrium temperature \"\"\"\n",
    "    # Write your code here\n",
    "    pass\n"
   ]
  },
  {
   "cell_type": "code",
   "execution_count": 8,
   "id": "c6d2e0fd",
   "metadata": {},
   "outputs": [],
   "source": [
    "# Print the results"
   ]
  },
  {
   "cell_type": "markdown",
   "id": "7bc2ff07",
   "metadata": {
    "slideshow": {
     "slide_type": "slide"
    }
   },
   "source": [
    "**Task 6:** With simple approaches such as equlibrium temperature, conceptual scenarios can be calculated. For example, the connection between the increase in albedo due to more cloud cover and the associated decrease in transmissivity can be investigated. For example, assume that the planetary albedo increases to 0.32 due to more cloud cover and that the transmissivity decreases to 0.57. What is the equilibrium temperature?"
   ]
  },
  {
   "cell_type": "code",
   "execution_count": 9,
   "id": "9760deb7",
   "metadata": {
    "slideshow": {
     "slide_type": "fragment"
    }
   },
   "outputs": [],
   "source": [
    "# Make your calculations here"
   ]
  },
  {
   "cell_type": "markdown",
   "id": "c6f9d1ab",
   "metadata": {
    "slideshow": {
     "slide_type": "slide"
    }
   },
   "source": [
    "**Task 8:** Write a function called *step_forward(T, dt)* that returns the new temperature given the old temeprature T and timestep dt. Assume an initial temperature of 288 K and integrate the function for a few timestep and observe how the temperature changes."
   ]
  },
  {
   "cell_type": "code",
   "execution_count": 10,
   "id": "8f4b1450",
   "metadata": {
    "slideshow": {
     "slide_type": "fragment"
    }
   },
   "outputs": [],
   "source": [
    "def step_forward(Q, T, Cw, alpha, tau, dt):\n",
    "    # Write your code here\n",
    "    pass"
   ]
  },
  {
   "cell_type": "code",
   "execution_count": 14,
   "id": "c2284e39",
   "metadata": {
    "slideshow": {
     "slide_type": "subslide"
    }
   },
   "outputs": [],
   "source": [
    "# Do first step forward"
   ]
  },
  {
   "cell_type": "code",
   "execution_count": 12,
   "id": "cdfa9fdb",
   "metadata": {
    "slideshow": {
     "slide_type": "fragment"
    }
   },
   "outputs": [],
   "source": [
    "# Do second step forward"
   ]
  },
  {
   "cell_type": "code",
   "execution_count": 13,
   "id": "4381a272",
   "metadata": {
    "slideshow": {
     "slide_type": "fragment"
    }
   },
   "outputs": [],
   "source": [
    "# Do third step forward"
   ]
  },
  {
   "cell_type": "markdown",
   "id": "d5e66966",
   "metadata": {
    "slideshow": {
     "slide_type": "slide"
    }
   },
   "source": [
    "**Task 9:** Integrate the equation over a time of 200 years and plot the result. Use the following initial and boundary conditions: \n",
    "\n",
    "$\n",
    "\\begin{align}\n",
    "S_0 &=1360 ~ W m^{-2} \\\\\n",
    "T_0 &= 273 ~ K \\\\ \n",
    "C_w &= 10^8 ~ J/(m^2 \\cdot K) \\\\\n",
    "\\alpha &= 0.3 \\\\\n",
    "\\tau &= 0.64\n",
    "\\end{align}\n",
    "$"
   ]
  },
  {
   "cell_type": "code",
   "execution_count": 16,
   "id": "930083f6",
   "metadata": {
    "slideshow": {
     "slide_type": "subslide"
    }
   },
   "outputs": [],
   "source": [
    "import numpy as np\n",
    "import matplotlib.pyplot as plt\n",
    "\n",
    "\n",
    "def OLR(T, tau):\n",
    "    \"\"\" Stefan-Boltzmann law \"\"\"\n",
    "    # Write your code here\n",
    "    pass\n",
    "\n",
    "def ASR(Q, alpha):\n",
    "    \"\"\" Absorbed shortwave radiation \"\"\"\n",
    "    # Write your code here\n",
    "    pass\n",
    "\n",
    "\n",
    "def step_forward(Q, T, Cw, alpha, tau, dt):\n",
    "    \"\"\" Time integration \"\"\"\n",
    "    # Write your code here\n",
    "    pass\n",
    "\n",
    "\n",
    "def ebm(T0, Q=341.3, Cw=10e8, alpha=0.3, tau=0.64, years=100):\n",
    "    ''' This is a simple Energy Balance Model with global radiation and outgoing longwave radiation.'''\n",
    "     # Write your code here\n",
    "    pass\n",
    "\n",
    "\n"
   ]
  },
  {
   "cell_type": "code",
   "execution_count": 17,
   "id": "e6ff1982",
   "metadata": {
    "slideshow": {
     "slide_type": "subslide"
    }
   },
   "outputs": [],
   "source": [
    "# Experiment 1"
   ]
  },
  {
   "cell_type": "markdown",
   "id": "8e0a603e",
   "metadata": {
    "slideshow": {
     "slide_type": "slide"
    }
   },
   "source": [
    "**Task 10:** What happens if the intial temperature is set to 293 K ?"
   ]
  },
  {
   "cell_type": "code",
   "execution_count": 18,
   "id": "475378d7",
   "metadata": {
    "slideshow": {
     "slide_type": "fragment"
    }
   },
   "outputs": [],
   "source": [
    "# Experiment 2\n"
   ]
  },
  {
   "cell_type": "markdown",
   "id": "b4d2f61e",
   "metadata": {
    "slideshow": {
     "slide_type": "slide"
    }
   },
   "source": [
    "**Task 11:** What changes do you observe with a higher $C_w$ value (e.g. $C_w=10\\cdot10^8 ~ J/(m^2 \\cdot K)$)?\n"
   ]
  },
  {
   "cell_type": "code",
   "execution_count": 19,
   "id": "b2bfb120",
   "metadata": {
    "slideshow": {
     "slide_type": "fragment"
    }
   },
   "outputs": [],
   "source": [
    "# Experiment 3"
   ]
  },
  {
   "cell_type": "markdown",
   "id": "b4e0c79f",
   "metadata": {
    "slideshow": {
     "slide_type": "slide"
    }
   },
   "source": [
    "**Task 12:** How does the result change when $\\tau=1$?"
   ]
  },
  {
   "cell_type": "code",
   "execution_count": 20,
   "id": "ba686e98",
   "metadata": {
    "slideshow": {
     "slide_type": "fragment"
    }
   },
   "outputs": [],
   "source": [
    "# Experiment 4"
   ]
  },
  {
   "cell_type": "markdown",
   "id": "b9334fd2",
   "metadata": {
    "slideshow": {
     "slide_type": "slide"
    }
   },
   "source": [
    "### Case Study: Venus. \n",
    "\n",
    "Calculate the mean surface temperature on Venus. Due to its proximity to the Sun, Venus has a very high irradiance of $S_{0}=2619 ~ Wm^{-2}$. Due to the high cloud cover, the albedo is about 0.7. What surface temperature can be expected? (Use the previous values for $C_w$ and $\\tau$)."
   ]
  },
  {
   "cell_type": "code",
   "execution_count": 21,
   "id": "756bf0ca",
   "metadata": {
    "slideshow": {
     "slide_type": "fragment"
    }
   },
   "outputs": [],
   "source": [
    "# Experiment 5"
   ]
  },
  {
   "cell_type": "markdown",
   "id": "70fa093f",
   "metadata": {
    "slideshow": {
     "slide_type": "slide"
    }
   },
   "source": [
    "Compare the measurements with your simulation. \n",
    "\n",
    "Is there a difference? If so, why does this difference exist? (Use the model to prove your hypothesis)"
   ]
  },
  {
   "cell_type": "code",
   "execution_count": 22,
   "id": "2eca2634",
   "metadata": {
    "slideshow": {
     "slide_type": "fragment"
    }
   },
   "outputs": [],
   "source": [
    "# Experiment 6"
   ]
  },
  {
   "cell_type": "code",
   "execution_count": null,
   "id": "f57cc41e",
   "metadata": {},
   "outputs": [],
   "source": []
  }
 ],
 "metadata": {
  "celltoolbar": "Slideshow",
  "kernelspec": {
   "display_name": "Python 3 (ipykernel)",
   "language": "python",
   "name": "python3"
  },
  "language_info": {
   "codemirror_mode": {
    "name": "ipython",
    "version": 3
   },
   "file_extension": ".py",
   "mimetype": "text/x-python",
   "name": "python",
   "nbconvert_exporter": "python",
   "pygments_lexer": "ipython3",
   "version": "3.8.9"
  }
 },
 "nbformat": 4,
 "nbformat_minor": 5
}
