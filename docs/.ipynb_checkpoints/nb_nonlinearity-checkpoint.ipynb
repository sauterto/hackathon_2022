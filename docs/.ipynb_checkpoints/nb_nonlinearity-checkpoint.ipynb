{
 "cells": [
  {
   "cell_type": "markdown",
   "id": "8efda8ad",
   "metadata": {},
   "source": [
    "(nonlinearity:exercise)=\n",
    "### Von-May function\n",
    "\n",
    "**Task 1**: Write a function which solves the Von-May-Equation.\n",
    "\n",
    "\n",
    "#### Problem description:\n",
    "\n",
    "<blockquote>The starting point for our analysis is the ‘Von-May-Equation’, which is given by <br>\n",
    "\n",
    "    \n",
    "**\\begin{align}    \n",
    "y_{t+1} = r \\cdot y_{t} \\cdot (1-y_{t}),\n",
    "\\end{align}**\n",
    "\n",
    "with  $r$ an pre-defined parameter and $y$ the function value at time $t$ and $t+1$.</blockquote>"
   ]
  },
  {
   "cell_type": "code",
   "execution_count": 1,
   "id": "da6a838d",
   "metadata": {},
   "outputs": [],
   "source": [
    "import matplotlib.pyplot as plt\n",
    "\n",
    "def von_may(y0,r):\n",
    "    # Write your code here\n",
    "    pass\n",
    "\n"
   ]
  },
  {
   "cell_type": "markdown",
   "id": "183dd0d3",
   "metadata": {},
   "source": [
    "**Task 2:** Run the code for several initial and parameter combination. What is particularly striking about increasing r-values?\n",
    "\n",
    "\n",
    "```\n",
    "y(0)=0.5 and r=2.80 (alternatively, use y(0)=0.9) \n",
    "y(0)=0.5 and r=3.30 (alternatively, use y(0)=0.9) \n",
    "y(0)=0.5 and r=3.95 (alternatively, use y(0)=0.495) \n",
    "y(0)=0.8 and r=2.80 \n",
    "\n",
    "```"
   ]
  },
  {
   "cell_type": "code",
   "execution_count": 2,
   "id": "76f548c4",
   "metadata": {},
   "outputs": [],
   "source": [
    "# Integrate the equation and plot the results\n"
   ]
  },
  {
   "cell_type": "markdown",
   "id": "870dcd34",
   "metadata": {},
   "source": [
    "**Extend the Von-May function**\n",
    "\n",
    "**Task 3:** Extend this Von-May function by generating 20 random r-values and run simulations with them. Sample the values from a normal distribution with mean 3.95 and standard deviation 0.015 (limit the r-values between 0 and 4). Then average over all time series. Plot both the time series, the averaged time series and the histogram of the averaged time series. What do you observe?"
   ]
  },
  {
   "cell_type": "code",
   "execution_count": 4,
   "id": "e1a32232",
   "metadata": {},
   "outputs": [],
   "source": [
    "import random\n",
    "import numpy as np\n",
    "\n",
    "def ensemble_may(n, y0, r):\n",
    "    # Write your code here\n",
    "    pass\n"
   ]
  },
  {
   "cell_type": "code",
   "execution_count": 5,
   "id": "f692d531",
   "metadata": {},
   "outputs": [],
   "source": [
    "# Plot the results"
   ]
  },
  {
   "cell_type": "markdown",
   "id": "48180154",
   "metadata": {},
   "source": [
    "**Revisit the EBM-Model**\n",
    "\n",
    "Include a dynamic transmissivity in the energy balance model.\n",
    "\n",
    "**Task 4:** Run the energy balance model $T(0)=288 ~ K$, $C_w= 2\\cdot10^8 ~ J/(m^2\n",
    " 57 \\cdot K)$, $\\alpha=0.3$, and $\\tau_{mean}=0.608 (\\pm 10\\%)$"
   ]
  },
  {
   "cell_type": "code",
   "execution_count": 6,
   "id": "caaf8390",
   "metadata": {},
   "outputs": [],
   "source": [
    "import random\n",
    "import numpy as np\n",
    "import matplotlib.pyplot as plt\n",
    "\n",
    "\n",
    "def OLR(T, tau):\n",
    "    \"\"\" Stefan-Boltzmann law \"\"\"\n",
    "    # Write your code here\n",
    "    pass\n",
    "\n",
    "def ASR(Q, alpha):\n",
    "    \"\"\" Absorbed shortwave radiation \"\"\"\n",
    "    # Write your code here\n",
    "    pass\n",
    "\n",
    "\n",
    "def step_forward(Q, T, Cw, alpha, tau, dt):\n",
    "    # Write your code here\n",
    "    pass\n",
    "\n",
    "\n",
    "def ebm_stochastic(T0, Q=341.3, Cw=10e8, alpha=0.3, tau=0.64, years=100):\n",
    "    # Write your code here\n",
    "    pass\n",
    "        "
   ]
  },
  {
   "cell_type": "code",
   "execution_count": 7,
   "id": "9b2645de",
   "metadata": {},
   "outputs": [],
   "source": [
    "# Plot the results\n"
   ]
  },
  {
   "cell_type": "markdown",
   "id": "b3843a81",
   "metadata": {},
   "source": [
    "**Extend the model with a simple ice/land use albedo parameterisation. (sigmoid version)**\n",
    "\n",
    "**Task 5:** In this parameterisation, the albedo is solely a function of mean temperature. As a non-linear function we assume a sigmoid function with\n",
    "\n",
    "\\begin{align}\n",
    "\\alpha(T_i) = 0.3 \\cdot (1-0.2 \\cdot \\tanh(0.5 \\cdot (T_i-288))).\n",
    "\\end{align}\n",
    "\n",
    "Run the energy balance model for 100 years with four different initial conditions for T(0)=286.0, 287.9, 288.0, and 293.0 K, while fixing the other parameters to $C_w$= 2$\\cdot10^8$ J/(m$^2 \\cdot$ K) and $\\tau_{mean}$=0.608. \n",
    "\n",
    "What can be said about the state of equilibrium?"
   ]
  },
  {
   "cell_type": "code",
   "execution_count": 8,
   "id": "18b2e129",
   "metadata": {},
   "outputs": [],
   "source": [
    "import random\n",
    "import numpy as np\n",
    "import matplotlib.pyplot as plt\n",
    "\n",
    "\n",
    "def ebm_ice_albedo(T0, Q=341.3, Cw=10e8, alpha=0.3, tau=0.64, years=100):\n",
    "    # Write your code here\n",
    "    pass"
   ]
  },
  {
   "cell_type": "code",
   "execution_count": 9,
   "id": "dbe92baa",
   "metadata": {},
   "outputs": [],
   "source": [
    "# Plot the albedo function\n"
   ]
  },
  {
   "cell_type": "code",
   "execution_count": 10,
   "id": "8b450c4d",
   "metadata": {},
   "outputs": [],
   "source": [
    "# Run the simulations and plot the results\n"
   ]
  },
  {
   "cell_type": "markdown",
   "id": "a2de6362",
   "metadata": {},
   "source": [
    "**Extend the model with a simple ice/land use albedo parameterisation. (linear version)**\n",
    "\n",
    "**Task 6:** In this parameterisation, the albedo is solely a function of mean temperature. We assume a simple linear relation according to\n",
    "\n",
    "\\begin{align}\n",
    "    f(x)= \n",
    "\\begin{cases}\n",
    "    \\alpha_i,& \\text{if } T\\leq T_i\\\\\n",
    "    \\alpha_g,& \\text{if } T \\geq T_g\\\\\n",
    "    \\alpha_g+b(T_g-T) & \\text{if } T_i<T<T_g\n",
    "\\end{cases}\n",
    "\\end{align}\n",
    "\n",
    "with $T_i$=273 K, and $T_g$= 292 K. Run the energy balance model for 100 years with four different initial conditions for T(0)=286.0, 287.9, 288.0, and 293.0 K, while fixing the other parameters to $C_w$= 2$\\cdot10^8$ J/(m$^2 \\cdot$ K), and $\\tau_{mean}$=0.608, $a_i$=0.6, and $a_g$=0.2. \n",
    "\n",
    "What can be said about the state of equilibrium?"
   ]
  },
  {
   "cell_type": "code",
   "execution_count": 11,
   "id": "5172196e",
   "metadata": {},
   "outputs": [],
   "source": [
    "import random\n",
    "import numpy as np\n",
    "import matplotlib.pyplot as plt\n",
    "\n",
    "\n",
    "def ebm_ice_albedo_2(T0, Q=341.3, Cw=10e8, alpha=0.3, tau=0.608, years=100):\n",
    "    # Write your code here\n",
    "    pass"
   ]
  },
  {
   "cell_type": "code",
   "execution_count": 12,
   "id": "bea0f216",
   "metadata": {},
   "outputs": [],
   "source": [
    "# Run the simulations and plot the results\n"
   ]
  },
  {
   "cell_type": "markdown",
   "id": "83545041",
   "metadata": {},
   "source": [
    "**Task 7:** Determine the equilibrium climate sensitivity (ECS) and the feedback factor for the simulation from Task 5 using T(0)=289 K.  (sigmoid albedo parametrisation)"
   ]
  },
  {
   "cell_type": "code",
   "execution_count": 13,
   "id": "ea59c57c",
   "metadata": {},
   "outputs": [],
   "source": [
    "import random\n",
    "import numpy as np\n",
    "import matplotlib.pyplot as plt\n",
    "\n",
    "\n",
    "def ebm_ice_albedo_stochastic_ECS(T0, Q=341.3, Cw=10e8, alpha=0.3, tau=0.64, years=100):\n",
    "    # Write your code here\n",
    "    pass"
   ]
  },
  {
   "cell_type": "code",
   "execution_count": 14,
   "id": "5c480a19",
   "metadata": {},
   "outputs": [],
   "source": [
    "# Run the simulations and plot the results\n"
   ]
  },
  {
   "cell_type": "markdown",
   "id": "eb560a39",
   "metadata": {},
   "source": [
    "**Task 8:** Repeat the simulation from Task 5 (sigmoid function for albedo) with T(0)=289 K, but again sample the transmissivity from a normal distribution with a standard deviation of 10%.  \n",
    "\n",
    "What special feature can now be observed? What conclusions can be inferred regarding the prediction of weather and climate?"
   ]
  },
  {
   "cell_type": "code",
   "execution_count": 15,
   "id": "273e9925",
   "metadata": {},
   "outputs": [],
   "source": [
    "import random\n",
    "import numpy as np\n",
    "import matplotlib.pyplot as plt\n",
    "\n",
    "\n",
    "def ebm_ice_albedo_stochastic(T0, Q=341.3, Cw=10e8, alpha=0.3, tau=0.64, years=100):\n",
    "    # Write your code here\n",
    "    pass"
   ]
  },
  {
   "cell_type": "code",
   "execution_count": 16,
   "id": "973dbb0d",
   "metadata": {},
   "outputs": [],
   "source": [
    "# Plot the results"
   ]
  },
  {
   "cell_type": "code",
   "execution_count": 18,
   "id": "3cbbcd51",
   "metadata": {},
   "outputs": [],
   "source": [
    "# Make more plots to illustrate the characteristics of the time series"
   ]
  }
 ],
 "metadata": {
  "kernelspec": {
   "display_name": "Python 3 (ipykernel)",
   "language": "python",
   "name": "python3"
  },
  "language_info": {
   "codemirror_mode": {
    "name": "ipython",
    "version": 3
   },
   "file_extension": ".py",
   "mimetype": "text/x-python",
   "name": "python",
   "nbconvert_exporter": "python",
   "pygments_lexer": "ipython3",
   "version": "3.8.9"
  }
 },
 "nbformat": 4,
 "nbformat_minor": 5
}
