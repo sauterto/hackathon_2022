{
 "cells": [
  {
   "cell_type": "markdown",
   "id": "c2fb55d1",
   "metadata": {},
   "source": [
    "(greenhouse:exercise)=\n",
    "# Greenhouse model"
   ]
  },
  {
   "cell_type": "markdown",
   "id": "bb74f0eb",
   "metadata": {},
   "source": [
    "**Task 1**: Plug Eq. (7) into Eq. (6) and solve for the radiative equilibrium suface temperature $T_e$ "
   ]
  },
  {
   "cell_type": "code",
   "execution_count": 1,
   "id": "217ec79c",
   "metadata": {},
   "outputs": [
    {
     "name": "stdout",
     "output_type": "stream",
     "text": [
      "Radiative equilibrium temperature: 0.00\n"
     ]
    }
   ],
   "source": [
    "# Solve for the radiative equilibrium temperature Te\n",
    "# Put you own code here\n",
    "Te = 0\n",
    "\n",
    "print('Radiative equilibrium temperature: {:.2f}'.format(Te))"
   ]
  },
  {
   "cell_type": "markdown",
   "id": "aec37719",
   "metadata": {},
   "source": [
    "**Task 2**: Where in the atmosphere do we find $T_e$?"
   ]
  },
  {
   "cell_type": "code",
   "execution_count": 2,
   "id": "c80a19b8",
   "metadata": {},
   "outputs": [],
   "source": [
    "import numpy as np\n",
    "import matplotlib.pyplot as plt\n"
   ]
  },
  {
   "cell_type": "code",
   "execution_count": 3,
   "id": "263016e7",
   "metadata": {},
   "outputs": [],
   "source": [
    "## NCAR data\n",
    "url = 'air.mon.ltm.1981-2010.nc'\n"
   ]
  },
  {
   "cell_type": "code",
   "execution_count": 4,
   "id": "94b52260",
   "metadata": {},
   "outputs": [],
   "source": [
    "#  Take global, annual average and convert to Kelvin"
   ]
  },
  {
   "cell_type": "code",
   "execution_count": 5,
   "id": "332b4f69",
   "metadata": {},
   "outputs": [],
   "source": [
    "#  a \"quick and dirty\" visualization of the data"
   ]
  },
  {
   "cell_type": "code",
   "execution_count": 6,
   "id": "97a1c94c",
   "metadata": {},
   "outputs": [],
   "source": [
    "# Create the skew-plot with the metpy module"
   ]
  },
  {
   "cell_type": "markdown",
   "id": "1866adcd",
   "metadata": {},
   "source": [
    "**Task 3**: What is the surface temperature with the single layer model? "
   ]
  },
  {
   "cell_type": "code",
   "execution_count": 7,
   "id": "55eceb48",
   "metadata": {},
   "outputs": [
    {
     "name": "stdout",
     "output_type": "stream",
     "text": [
      "Surface temperature: 0.00\n"
     ]
    }
   ],
   "source": [
    "# Solve for the atmospheric surface temperature\n",
    "\n",
    "# Calc surface temperature Ts\n",
    "# Put you own code here\n",
    "Ts = 0\n",
    "\n",
    "print('Surface temperature: {:.2f}'.format(Ts))"
   ]
  },
  {
   "cell_type": "markdown",
   "id": "355993ad",
   "metadata": {},
   "source": [
    "Why does the model overestimate the surface temperature?"
   ]
  },
  {
   "cell_type": "markdown",
   "id": "6f64ed6e",
   "metadata": {},
   "source": [
    "**Task 5**: Write a Python function for $OLR = U_2 = (1-\\epsilon)^2 \\sigma T_s^4 + \\epsilon(1-\\epsilon)\\sigma T_0^4 + \\epsilon \\sigma T_1^4$"
   ]
  },
  {
   "cell_type": "code",
   "execution_count": 8,
   "id": "e17d7889",
   "metadata": {},
   "outputs": [],
   "source": [
    "def two_layer_model(Ts, T0, T1, epsilon):\n",
    "    pass"
   ]
  },
  {
   "cell_type": "markdown",
   "id": "c31ad12d",
   "metadata": {},
   "source": [
    "**Task 7**: We will tune our model so that it reproduces the observed global mean OLR given observed global mean temperatures. Determine the temperatures for the two-layer model from the following sounding"
   ]
  },
  {
   "cell_type": "markdown",
   "id": "c4ecf228",
   "metadata": {},
   "source": [
    "![alt text](pics/vertical_profile.png \"Sounding\")"
   ]
  },
  {
   "cell_type": "markdown",
   "id": "8ca1797f",
   "metadata": {},
   "source": [
    "**Task 8**: Find graphically the best fit value of $\\epsilon$\n"
   ]
  },
  {
   "cell_type": "code",
   "execution_count": 9,
   "id": "443de545",
   "metadata": {},
   "outputs": [],
   "source": [
    "import numpy as np\n",
    "import matplotlib.pyplot as plt\n",
    "\n",
    "# Write your code here"
   ]
  },
  {
   "cell_type": "code",
   "execution_count": 10,
   "id": "df7658e0",
   "metadata": {},
   "outputs": [],
   "source": [
    "# Validate the result"
   ]
  },
  {
   "cell_type": "markdown",
   "id": "274ebcab",
   "metadata": {},
   "source": [
    "**Task 9**: Write a Python function to calculate each term in the OLR. Plug-in the observed temperatures and the tuned value for epsilon."
   ]
  },
  {
   "cell_type": "code",
   "execution_count": 11,
   "id": "ce7034f2",
   "metadata": {},
   "outputs": [],
   "source": [
    "def two_layer_terms(Ts, T0, T1, epsilon):\n",
    "    pass"
   ]
  },
  {
   "cell_type": "code",
   "execution_count": 12,
   "id": "e4c7a227",
   "metadata": {},
   "outputs": [],
   "source": [
    "# Calculate terms\n"
   ]
  },
  {
   "cell_type": "markdown",
   "id": "468d2b55",
   "metadata": {},
   "source": [
    "**Task 10**: Changing the level of emission by adding absorbers, e.g. by 10 %. \n",
    "Suppose further that this increase happens abruptly so that there is no time for the temperatures to respond to this change. We hold the temperatures fixed in the column and ask how the radiative fluxes change.\n",
    "\n",
    "Which terms in the OLR go up and which go down?"
   ]
  },
  {
   "cell_type": "code",
   "execution_count": 13,
   "id": "ec0946f4",
   "metadata": {},
   "outputs": [],
   "source": [
    "# Make simulation here"
   ]
  },
  {
   "cell_type": "markdown",
   "id": "fb75e928",
   "metadata": {},
   "source": [
    "**Task 11**: Calculate the radiative forcing for the previous simulation"
   ]
  },
  {
   "cell_type": "code",
   "execution_count": 14,
   "id": "c1eed0e3",
   "metadata": {},
   "outputs": [],
   "source": [
    "# Calculate radiative forcing"
   ]
  },
  {
   "cell_type": "markdown",
   "id": "808791fc",
   "metadata": {},
   "source": [
    "**Task 12**: What is the greenhouse effect for an isothermal atmosphere?"
   ]
  },
  {
   "cell_type": "code",
   "execution_count": 15,
   "id": "228fb83d",
   "metadata": {},
   "outputs": [],
   "source": [
    "# Make simulation here"
   ]
  },
  {
   "cell_type": "markdown",
   "id": "6abd7541",
   "metadata": {},
   "source": [
    "**Task 13**: For a more realistic example of radiative forcing due to an increase in greenhouse absorbers, we use our observed temperatures and the tuned value for epsilon. Assume an increase of epsilon by 2 %."
   ]
  },
  {
   "cell_type": "code",
   "execution_count": 16,
   "id": "7f538d06",
   "metadata": {},
   "outputs": [],
   "source": [
    "# Make simulation here"
   ]
  }
 ],
 "metadata": {
  "kernelspec": {
   "display_name": "Python 3 (ipykernel)",
   "language": "python",
   "name": "python3"
  },
  "language_info": {
   "codemirror_mode": {
    "name": "ipython",
    "version": 3
   },
   "file_extension": ".py",
   "mimetype": "text/x-python",
   "name": "python",
   "nbconvert_exporter": "python",
   "pygments_lexer": "ipython3",
   "version": "3.7.0"
  }
 },
 "nbformat": 4,
 "nbformat_minor": 5
}