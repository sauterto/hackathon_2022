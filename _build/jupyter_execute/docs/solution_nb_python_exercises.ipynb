{
 "cells": [
  {
   "cell_type": "markdown",
   "id": "46937f2b",
   "metadata": {},
   "source": [
    "(python:solution)=\n",
    "# Python exercises\n",
    "\n",
    "Here you find a set of exercises to revisit your python abilities."
   ]
  },
  {
   "cell_type": "markdown",
   "id": "14a35593",
   "metadata": {},
   "source": [
    "Exercise 01: Create a function that takes an integer as an argument and returns \"Even\" for even numbers or \"Odd\" for odd numbers."
   ]
  },
  {
   "cell_type": "code",
   "execution_count": 1,
   "id": "6946474b",
   "metadata": {},
   "outputs": [],
   "source": [
    "def even_or_odd(number):\n",
    "    return 'Odd' if number % 2 else 'Even'\n"
   ]
  },
  {
   "cell_type": "markdown",
   "id": "a8e75240",
   "metadata": {},
   "source": [
    "Test the function with the following examples:"
   ]
  },
  {
   "cell_type": "code",
   "execution_count": 2,
   "id": "4026f1ad",
   "metadata": {},
   "outputs": [
    {
     "name": "stdout",
     "output_type": "stream",
     "text": [
      "Test 1: Correct\n",
      "Test 2: Correct\n",
      "Test 3: Correct\n"
     ]
    }
   ],
   "source": [
    "try:\n",
    "    assert even_or_odd(2) == \"Even\"\n",
    "    print(\"Test 1: Correct\")\n",
    "except AssertionError:\n",
    "    print(\"Test 1: Incorrect\")\n",
    "\n",
    "try:\n",
    "    assert even_or_odd(1) == \"Odd\"\n",
    "    print(\"Test 2: Correct\")\n",
    "except AssertionError:\n",
    "    print(\"Test 2: Incorrect\")\n",
    "\n",
    "try:\n",
    "    assert even_or_odd(12) == \"Even\"\n",
    "    print(\"Test 3: Correct\")\n",
    "except AssertionError:\n",
    "    print(\"Test 3: Incorrect\")"
   ]
  },
  {
   "cell_type": "markdown",
   "id": "a09369bc",
   "metadata": {},
   "source": [
    "Exercise 02: This code does not execute properly. Try to figure out why."
   ]
  },
  {
   "cell_type": "code",
   "execution_count": 3,
   "id": "ff7f2b6e",
   "metadata": {},
   "outputs": [],
   "source": [
    "def multiply(a, b):\n",
    "    return a * b"
   ]
  },
  {
   "cell_type": "code",
   "execution_count": 4,
   "id": "465e3b7a",
   "metadata": {},
   "outputs": [
    {
     "name": "stdout",
     "output_type": "stream",
     "text": [
      "Test: Correct\n"
     ]
    }
   ],
   "source": [
    "try:\n",
    "    assert multiply(2,3) == 6\n",
    "    print(\"Test: Correct\")\n",
    "except AssertionError:\n",
    "    print(\"Test: Incorrect\")"
   ]
  },
  {
   "cell_type": "markdown",
   "id": "7ecbd4d1",
   "metadata": {},
   "source": [
    "Exercise 03: You get an array of numbers, return the sum of all of the positives ones.\n",
    "\n",
    "Example [1,-4,7,12] => 1 + 7 + 12 = 20\n",
    "\n",
    "Note: if there is nothing to sum, the sum is default to 0."
   ]
  },
  {
   "cell_type": "code",
   "execution_count": 5,
   "id": "0b15395a",
   "metadata": {},
   "outputs": [],
   "source": [
    "def positive_sum(arr):\n",
    "    return sum(x for x in arr if x > 0)"
   ]
  },
  {
   "cell_type": "code",
   "execution_count": 6,
   "id": "df321c5e",
   "metadata": {},
   "outputs": [
    {
     "name": "stdout",
     "output_type": "stream",
     "text": [
      "Test 1: Correct\n",
      "Test 2: Correct\n"
     ]
    }
   ],
   "source": [
    "try:\n",
    "    assert positive_sum([1,2,3,4,5]) == 15\n",
    "    print(\"Test 1: Correct\")\n",
    "except AssertionError:\n",
    "    print(\"Test 1: Incorrect\")\n",
    "try:\n",
    "    assert positive_sum([-1,2,3,4,-5]) == 9\n",
    "    print(\"Test 2: Correct\")\n",
    "except AssertionError:\n",
    "    print(\"Test 2: Incorrect\")\n"
   ]
  },
  {
   "cell_type": "markdown",
   "id": "596b3913",
   "metadata": {},
   "source": [
    "Exercise 04: Given an array of integers your solution should find the smallest integer.\n",
    "\n",
    "For example:\n",
    "\n",
    "- Given [34, 15, 88, 2] your solution will return 2\n",
    "- Given [34, -345, -1, 100] your solution will return -345\n",
    "\n",
    "You can assume, for the purpose of this exercise, that the supplied array will not be empty."
   ]
  },
  {
   "cell_type": "code",
   "execution_count": 7,
   "id": "3d43a432",
   "metadata": {},
   "outputs": [],
   "source": [
    "def find_smallest_int(arr):\n",
    "    return min(arr)"
   ]
  },
  {
   "cell_type": "code",
   "execution_count": 8,
   "id": "28efce26",
   "metadata": {},
   "outputs": [
    {
     "name": "stdout",
     "output_type": "stream",
     "text": [
      "Test 1: Correct\n",
      "Test 2: Correct\n"
     ]
    }
   ],
   "source": [
    "try:\n",
    "    assert find_smallest_int([35,15,88,2]) == 2\n",
    "    print(\"Test 1: Correct\")\n",
    "except AssertionError:\n",
    "    print(\"Test 1: Incorrect\")\n",
    "try:\n",
    "    assert find_smallest_int([34,-345,-1,100]) == -345\n",
    "    print(\"Test 2: Correct\")\n",
    "except AssertionError:\n",
    "    print(\"Test 2: Incorrect\")"
   ]
  },
  {
   "cell_type": "markdown",
   "id": "0701853e",
   "metadata": {},
   "source": [
    "Exercise 05: Your task is to create a function that does four basic mathematical operations.\n",
    "\n",
    "The function should take three arguments - operation(string/char), value1(number), value2(number) and should return result of numbers after applying the chosen operation.\n",
    "\n",
    "*Examples (Operator, value1, value2) --> output*\n",
    "\n",
    "```('+', 4, 7) --> 11\n",
    "('-', 15, 18) --> -3\n",
    "('*', 5, 5) --> 25\n",
    "('/', 49, 7) --> 7\n",
    "```"
   ]
  },
  {
   "cell_type": "code",
   "execution_count": 9,
   "id": "3b0f6de2",
   "metadata": {},
   "outputs": [],
   "source": [
    "def basic_op(operator, value1, value2):\n",
    "    if operator=='+':\n",
    "       return value1+value2\n",
    "    if operator=='-':\n",
    "       return value1-value2\n",
    "    if operator=='/':\n",
    "       return value1/value2\n",
    "    if operator=='*':\n",
    "       return value1*value2"
   ]
  },
  {
   "cell_type": "code",
   "execution_count": 10,
   "id": "a4162f93",
   "metadata": {},
   "outputs": [
    {
     "name": "stdout",
     "output_type": "stream",
     "text": [
      "Test 1: Correct\n",
      "Test 2: Correct\n"
     ]
    }
   ],
   "source": [
    "try:\n",
    "    assert basic_op('-',15,18) == -3\n",
    "    print(\"Test 1: Correct\")\n",
    "except AssertionError:\n",
    "    print(\"Test 1: Incorrect\")\n",
    "try:\n",
    "    assert basic_op('*',5,5) == 25\n",
    "    print(\"Test 2: Correct\")\n",
    "except AssertionError:\n",
    "    print(\"Test 2: Incorrect\")"
   ]
  },
  {
   "cell_type": "markdown",
   "id": "be324765",
   "metadata": {},
   "source": [
    "Exercise 06: In this kata you will create a function that takes in a list and returns a list with the reverse order.\n",
    "\n",
    "Examples (Input -> Output)\n",
    "\n",
    "```\n",
    "* [1, 2, 3, 4]  -> [4, 3, 2, 1]\n",
    "* [9, 2, 0, 7]  -> [7, 0, 2, 9]\n",
    "```"
   ]
  },
  {
   "cell_type": "code",
   "execution_count": 11,
   "id": "0f8dc5f7",
   "metadata": {},
   "outputs": [],
   "source": [
    "def reverse_list(l):\n",
    "    return l[::-1]"
   ]
  },
  {
   "cell_type": "code",
   "execution_count": 12,
   "id": "4579a159",
   "metadata": {},
   "outputs": [
    {
     "name": "stdout",
     "output_type": "stream",
     "text": [
      "Test 1: Correct\n",
      "Test 2: Correct\n"
     ]
    }
   ],
   "source": [
    "try:\n",
    "    assert reverse_list([1, 2, 3, 4]) == [4, 3, 2, 1]\n",
    "    print(\"Test 1: Correct\")\n",
    "except AssertionError:\n",
    "    print(\"Test 1: Incorrect\")\n",
    "try:\n",
    "    assert reverse_list([9, 2, 0, 7]) == [7, 0, 2, 9]\n",
    "    print(\"Test 2: Correct\")\n",
    "except AssertionError:\n",
    "    print(\"Test 2: Incorrect\")"
   ]
  },
  {
   "cell_type": "markdown",
   "id": "8b74cfef",
   "metadata": {},
   "source": [
    "Exercise 07: Write a function that computes the volume of a sphere given its radius."
   ]
  },
  {
   "cell_type": "code",
   "execution_count": 13,
   "id": "caef4cee",
   "metadata": {},
   "outputs": [],
   "source": [
    "def vol(rad):\n",
    "    return (4/3)*(3.14)*(rad**3)"
   ]
  },
  {
   "cell_type": "code",
   "execution_count": 14,
   "id": "b36a935c",
   "metadata": {},
   "outputs": [
    {
     "name": "stdout",
     "output_type": "stream",
     "text": [
      "Test: Correct\n"
     ]
    }
   ],
   "source": [
    "try:\n",
    "    assert vol(2) == 33.49333333333333\n",
    "    print(\"Test: Correct\")\n",
    "except AssertionError:\n",
    "    print(\"Test: Incorrect\")"
   ]
  },
  {
   "cell_type": "markdown",
   "id": "b3989985",
   "metadata": {},
   "source": [
    "Exercise 08: Write a function that checks whether a number is in a given range (inclusive of high and low)"
   ]
  },
  {
   "cell_type": "code",
   "execution_count": 15,
   "id": "80c082ab",
   "metadata": {},
   "outputs": [],
   "source": [
    "def ran_bool(num,low,high):\n",
    "    #Check if num is between low and high (including low and high)\n",
    "    return num in range(low,high+1)"
   ]
  },
  {
   "cell_type": "code",
   "execution_count": 16,
   "id": "20145f3b",
   "metadata": {},
   "outputs": [
    {
     "name": "stdout",
     "output_type": "stream",
     "text": [
      "Test: Correct\n"
     ]
    }
   ],
   "source": [
    "try:\n",
    "    assert ran_bool(5,2,7) == True\n",
    "    print(\"Test: Correct\")\n",
    "except AssertionError:\n",
    "    print(\"Test: Incorrect\")"
   ]
  },
  {
   "cell_type": "markdown",
   "id": "17f1deb7",
   "metadata": {},
   "source": [
    "Exercise 09: Write a Python function that takes a list and returns a new list with unique elements of the first list.\n",
    "\n",
    "```\n",
    "Sample List : [1,1,1,1,2,2,3,3,3,3,4,5]\n",
    "Unique List : [1, 2, 3, 4, 5]\n",
    "```"
   ]
  },
  {
   "cell_type": "code",
   "execution_count": 17,
   "id": "fc8c9f96",
   "metadata": {},
   "outputs": [],
   "source": [
    "def unique_list(lst):\n",
    "    # Also possible to use list(set())\n",
    "    x = []\n",
    "    for a in lst:\n",
    "        if a not in x:\n",
    "            x.append(a)\n",
    "    return x"
   ]
  },
  {
   "cell_type": "code",
   "execution_count": 18,
   "id": "07c01829",
   "metadata": {},
   "outputs": [
    {
     "name": "stdout",
     "output_type": "stream",
     "text": [
      "Test: Correct\n"
     ]
    }
   ],
   "source": [
    "try:\n",
    "    assert unique_list([1,1,1,1,2,2,3,3,3,3,4,5]) == [1, 2, 3, 4, 5]\n",
    "    print(\"Test: Correct\")\n",
    "except AssertionError:\n",
    "    print(\"Test: Incorrect\")"
   ]
  },
  {
   "cell_type": "markdown",
   "id": "a85a4515",
   "metadata": {},
   "source": [
    "Exercise 10: Write a Python function to multiply all the numbers in a list.\n",
    "\n",
    "```\n",
    "Sample List : [1, 2, 3, -4]\n",
    "Expected Output : -24\n",
    "```"
   ]
  },
  {
   "cell_type": "code",
   "execution_count": 19,
   "id": "490fa3ee",
   "metadata": {},
   "outputs": [],
   "source": [
    "def multiply(numbers):\n",
    "    total = 1\n",
    "    for x in numbers:\n",
    "        total *= x\n",
    "    return total"
   ]
  },
  {
   "cell_type": "code",
   "execution_count": 20,
   "id": "36b6785d",
   "metadata": {},
   "outputs": [
    {
     "name": "stdout",
     "output_type": "stream",
     "text": [
      "Test: Correct\n"
     ]
    }
   ],
   "source": [
    "try:\n",
    "    assert multiply([1,2,3,-4]) == -24\n",
    "    print(\"Test: Correct\")\n",
    "except AssertionError:\n",
    "    print(\"Test: Incorrect\")"
   ]
  },
  {
   "cell_type": "markdown",
   "id": "791dac2f",
   "metadata": {},
   "source": [
    "Exercise 11: Write a Python funtion that takes a list and takes the differences between the elemtens\n",
    "\n",
    "```\n",
    "Sample List: [1,3,7,5,5,2,0,1,2]\n",
    "Expected Output: [2,4,-2,0,-3,-2,1,1]\n",
    "```\n",
    "\n",
    "You can either use simple list functions or numpy arrays ... It's up to you!"
   ]
  },
  {
   "cell_type": "code",
   "execution_count": 21,
   "id": "07818c05",
   "metadata": {},
   "outputs": [],
   "source": [
    "import numpy as np\n",
    "\n",
    "def diff_list(lst):\n",
    "    lst = np.array(lst)\n",
    "    return list(np.subtract(lst[1:],lst[:-1]))"
   ]
  },
  {
   "cell_type": "code",
   "execution_count": 22,
   "id": "ab9634f4",
   "metadata": {},
   "outputs": [
    {
     "name": "stdout",
     "output_type": "stream",
     "text": [
      "Test: Correct\n"
     ]
    }
   ],
   "source": [
    "try:\n",
    "    assert diff_list([1,3,7,5,5,2,0,1,2]) == [2,4,-2,0,-3,-2,1,1]\n",
    "    print(\"Test: Correct\")\n",
    "except AssertionError:\n",
    "    print(\"Test: Incorrect\")"
   ]
  },
  {
   "cell_type": "markdown",
   "id": "c213c640",
   "metadata": {},
   "source": [
    "Exercise 12: Some numpy exercises"
   ]
  },
  {
   "cell_type": "markdown",
   "id": "748a0c7b",
   "metadata": {},
   "source": [
    "**Write a NumPy program to create an array with values ranging from a to b.**\n",
    "\n",
    "```\n",
    "Example: a=12, b=17 --> [12,13,14,15,16,17]\n",
    "```"
   ]
  },
  {
   "cell_type": "code",
   "execution_count": 23,
   "id": "691f56fe",
   "metadata": {},
   "outputs": [],
   "source": [
    "import numpy as np\n",
    "\n",
    "def rng(a, b):\n",
    "    return np.arange(a, b)\n"
   ]
  },
  {
   "cell_type": "code",
   "execution_count": 24,
   "id": "1d7d124d",
   "metadata": {},
   "outputs": [
    {
     "name": "stdout",
     "output_type": "stream",
     "text": [
      "Test: Correct\n"
     ]
    }
   ],
   "source": [
    "try:\n",
    "    assert (rng(12,17) == np.array([12,13,14,15,16])).all()\n",
    "    print(\"Test: Correct\")\n",
    "except AssertionError:\n",
    "    print(\"Test: Incorrect\")"
   ]
  },
  {
   "cell_type": "markdown",
   "id": "c53d6be5",
   "metadata": {},
   "source": [
    "**Write two NumPy programs to convert the values of Centigrade degrees into Fahrenheit degrees and vice versa. Values are stored into a NumPy array.**\n",
    "\n",
    "Remember: \n",
    "```\n",
    "Celsius to Fahrenheit (9C + (32*5))/5\n",
    "Fahrenheit to Celsius 5*(F-32))/9\n",
    "```\n",
    "\n",
    "Sample Array:\n",
    "```\n",
    "Values in Fahrenheit degrees [0, 12, 45.21, 34, 99.91]\n",
    "Values in Centigrade degrees [-17.78, -11.11, 7.34, 1.11, 37.73, 0. ]\n",
    "```"
   ]
  },
  {
   "cell_type": "code",
   "execution_count": 25,
   "id": "60903cc4",
   "metadata": {},
   "outputs": [],
   "source": [
    "import numpy as np\n",
    "\n",
    "def fahr2celsius(lst):\n",
    "    F = np.array(lst)\n",
    "    print(\"Values in Fahrenheit degrees:\")\n",
    "    print(F)\n",
    "    print(\"Values in  Centigrade degrees:\")\n",
    "    print(np.round((5*F/9 - 5*32/9),2))\n",
    "    return (np.round((5*F/9 - 5*32/9),2))\n",
    "\n",
    "\n",
    "def celsius2fahr(lst):\n",
    "    C = np.array(lst)\n",
    "    print(\"Values in Celsius degrees:\")\n",
    "    print(C)\n",
    "    print(\"Values in  Centigrade degrees:\")\n",
    "    print(np.round((9*C+(32*5))/5,2))\n",
    "    return (np.round((9*C+(32*5))/5,2))"
   ]
  },
  {
   "cell_type": "code",
   "execution_count": 26,
   "id": "c5730c4b",
   "metadata": {},
   "outputs": [
    {
     "name": "stdout",
     "output_type": "stream",
     "text": [
      "Values in Fahrenheit degrees:\n",
      "[ 0.   12.   45.21 34.   99.91 32.  ]\n",
      "Values in  Centigrade degrees:\n",
      "[-17.78 -11.11   7.34   1.11  37.73   0.  ]\n",
      "\n",
      " Test: Correct\n",
      "Values in Celsius degrees:\n",
      "[-17.78 -11.11   7.34   1.11  37.73   0.  ]\n",
      "Values in  Centigrade degrees:\n",
      "[-0.   12.   45.21 34.   99.91 32.  ]\n",
      "\n",
      " Test: Correct\n"
     ]
    }
   ],
   "source": [
    "try:\n",
    "    assert (fahr2celsius([0, 12, 45.21, 34, 99.91, 32]) == np.array([-17.78,-11.11,7.34,1.11,37.73,0.])).all()\n",
    "    print(\"\\n Test: Correct\")\n",
    "except AssertionError:\n",
    "    print(\"\\n Test: Incorrect\")\n",
    "\n",
    "try:\n",
    "    assert (celsius2fahr([-17.78,-11.11,7.34,1.11,37.73,0.]) == np.array([0, 12, 45.21, 34, 99.91, 32])).all()\n",
    "    print(\"\\n Test: Correct\")\n",
    "except AssertionError:\n",
    "    print(\"\\n Test: Incorrect\")"
   ]
  }
 ],
 "metadata": {
  "kernelspec": {
   "display_name": "Python 3 (ipykernel)",
   "language": "python",
   "name": "python3"
  },
  "language_info": {
   "codemirror_mode": {
    "name": "ipython",
    "version": 3
   },
   "file_extension": ".py",
   "mimetype": "text/x-python",
   "name": "python",
   "nbconvert_exporter": "python",
   "pygments_lexer": "ipython3",
   "version": "3.7.0"
  }
 },
 "nbformat": 4,
 "nbformat_minor": 5
}