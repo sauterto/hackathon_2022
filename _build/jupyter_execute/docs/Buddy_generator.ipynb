{
 "cells": [
  {
   "cell_type": "code",
   "execution_count": 1,
   "id": "5af8f09d",
   "metadata": {},
   "outputs": [
    {
     "name": "stdout",
     "output_type": "stream",
     "text": [
      "Jakub - Josefa Aletia \n",
      "Shawn Adrian - Franziska \n",
      "Naomi Shannon Heather Nahida - Antonia \n",
      "Ashraful - Dominika \n",
      "Diego Nicolas - Natalja \n",
      "Anne - Anna \n",
      "Olga - Robert \n",
      "Leonie - Leonie \n",
      "Ronja - Lara-Heléne \n",
      "Nele - Ephie \n",
      "Patrice Nicola - Sara \n",
      "Arne - Juliana \n",
      "[]\n"
     ]
    }
   ],
   "source": [
    "import random\n",
    "\n",
    "participants = ['Ephie',\n",
    "    'Jakub',\n",
    "    'Diego Nicolas',\n",
    "    'Juliana',\n",
    "    'Robert',\n",
    "    'Anne',\n",
    "    'Antonia',\n",
    "    'Lara-Heléne',\n",
    "    'Franziska',\n",
    "    'Natalja',\n",
    "    'Leonie',\n",
    "    'Arne',\n",
    "    'Patrice Nicola',\n",
    "    'Olga',\n",
    "    'Anna',\n",
    "    'Ashraful',\n",
    "    'Shawn Adrian',\n",
    "    'Nele',\n",
    "    'Naomi Shannon Heather Nahida',\n",
    "    'Josefa Aletia',\n",
    "    'Dominika',\n",
    "    'Leonie',\n",
    "    'Ronja',\n",
    "    'Sara']\n",
    "\n",
    "\n",
    "while len(participants)>=1:\n",
    "    buddies = random.sample(participants, 2)\n",
    "    print('{0} - {1} '.format(buddies[0],buddies[1]))\n",
    "    for buddy in buddies:\n",
    "        participants.remove(buddy)\n",
    "\n",
    "print(participants)"
   ]
  },
  {
   "cell_type": "code",
   "execution_count": null,
   "id": "46d66f88",
   "metadata": {},
   "outputs": [],
   "source": []
  }
 ],
 "metadata": {
  "kernelspec": {
   "display_name": "Python 3 (ipykernel)",
   "language": "python",
   "name": "python3"
  },
  "language_info": {
   "codemirror_mode": {
    "name": "ipython",
    "version": 3
   },
   "file_extension": ".py",
   "mimetype": "text/x-python",
   "name": "python",
   "nbconvert_exporter": "python",
   "pygments_lexer": "ipython3",
   "version": "3.7.0"
  }
 },
 "nbformat": 4,
 "nbformat_minor": 5
}